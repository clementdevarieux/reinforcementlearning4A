{
 "nbformat": 4,
 "nbformat_minor": 0,
 "metadata": {
  "colab": {
   "provenance": []
  },
  "kernelspec": {
   "name": "python3",
   "language": "python",
   "display_name": "Python 3 (ipykernel)"
  },
  "language_info": {
   "name": "python"
  }
 },
 "cells": [
  {
   "cell_type": "code",
   "source": [
    "import numpy as np\n",
    "from typing import List\n",
    "from tqdm import tqdm"
   ],
   "metadata": {
    "id": "s-XvXEhItokg",
    "ExecuteTime": {
     "end_time": "2024-06-29T20:46:42.317234900Z",
     "start_time": "2024-06-29T20:46:42.123666200Z"
    }
   },
   "execution_count": 1,
   "outputs": []
  },
  {
   "cell_type": "code",
   "execution_count": 2,
   "metadata": {
    "id": "4HRJFSnesnvB",
    "ExecuteTime": {
     "end_time": "2024-06-29T20:46:42.327962900Z",
     "start_time": "2024-06-29T20:46:42.322370700Z"
    }
   },
   "outputs": [],
   "source": [
    "class LineWorld:\n",
    "  def __init__(self):\n",
    "    self.agent_pos = 2\n",
    "\n",
    "  # Uniquement pour le MonteCarloES\n",
    "  def from_random_state() -> 'LineWorld':\n",
    "    env = LineWorld()\n",
    "    env.agent_pos = np.random.randint(1, 4)\n",
    "    return env\n",
    "\n",
    "  def available_actions(self) -> List[int]:\n",
    "    if self.agent_pos in [1, 2, 3]:\n",
    "      return [0, 1] # 0: left, 1: right\n",
    "    return []\n",
    "\n",
    "  def is_game_over(self) -> bool:\n",
    "    return True if self.agent_pos in [0, 4] else False\n",
    "\n",
    "  def state_id(self) -> int:\n",
    "    return self.agent_pos\n",
    "\n",
    "  def step(self, action: int):\n",
    "    assert(not self.is_game_over())\n",
    "    assert(action in self.available_actions())\n",
    "\n",
    "    if action == 0:\n",
    "      self.agent_pos -= 1\n",
    "    else:\n",
    "      self.agent_pos += 1\n",
    "\n",
    "  def score(self) -> float:\n",
    "    if self.agent_pos == 0:\n",
    "      return -1.0\n",
    "    if self.agent_pos == 4:\n",
    "      return 1.0\n",
    "    return 0.0\n",
    "\n",
    "  def display(self):\n",
    "    for i in range(5):\n",
    "      print('X' if self.agent_pos == i else '_', end='')\n",
    "    print()\n",
    "\n",
    "  def reset(self):\n",
    "    self.agent_pos = 2"
   ]
  },
  {
   "cell_type": "code",
   "source": [
    "env = LineWorld()"
   ],
   "metadata": {
    "id": "P0x8ejaLw2-K",
    "ExecuteTime": {
     "end_time": "2024-06-29T20:46:42.336231800Z",
     "start_time": "2024-06-29T20:46:42.327879200Z"
    }
   },
   "execution_count": 3,
   "outputs": []
  },
  {
   "cell_type": "code",
   "source": [
    "env.display()"
   ],
   "metadata": {
    "colab": {
     "base_uri": "https://localhost:8080/"
    },
    "id": "iZeyVFeRw4yg",
    "outputId": "02bd2350-5192-4829-d01b-7e65a87f1fdf",
    "ExecuteTime": {
     "end_time": "2024-06-29T20:46:42.341259800Z",
     "start_time": "2024-06-29T20:46:42.337221300Z"
    }
   },
   "execution_count": 4,
   "outputs": [
    {
     "name": "stdout",
     "output_type": "stream",
     "text": [
      "__X__\n"
     ]
    }
   ]
  },
  {
   "cell_type": "code",
   "source": [
    "env.available_actions()"
   ],
   "metadata": {
    "colab": {
     "base_uri": "https://localhost:8080/"
    },
    "id": "apuGDU12w6TP",
    "outputId": "3d0312c2-1ba9-4aa4-fbd1-35281b3e5037",
    "ExecuteTime": {
     "end_time": "2024-06-29T20:46:42.409686800Z",
     "start_time": "2024-06-29T20:46:42.340219800Z"
    }
   },
   "execution_count": 5,
   "outputs": [
    {
     "data": {
      "text/plain": "[0, 1]"
     },
     "execution_count": 5,
     "metadata": {},
     "output_type": "execute_result"
    }
   ]
  },
  {
   "cell_type": "code",
   "source": [
    "env.step(0)\n",
    "env.display()"
   ],
   "metadata": {
    "colab": {
     "base_uri": "https://localhost:8080/"
    },
    "id": "vtNpkNgcw89P",
    "outputId": "1c98eb07-8305-46c1-bfc4-0b5f4da3f383",
    "ExecuteTime": {
     "end_time": "2024-06-29T20:46:42.410875800Z",
     "start_time": "2024-06-29T20:46:42.352298500Z"
    }
   },
   "execution_count": 6,
   "outputs": [
    {
     "name": "stdout",
     "output_type": "stream",
     "text": [
      "_X___\n"
     ]
    }
   ]
  },
  {
   "cell_type": "code",
   "source": [
    "env.step(0)\n",
    "env.display()"
   ],
   "metadata": {
    "colab": {
     "base_uri": "https://localhost:8080/"
    },
    "id": "ayBD8v3fxAUt",
    "outputId": "cf97758f-9c9e-42a3-8103-e50ca3dc38fe",
    "ExecuteTime": {
     "end_time": "2024-06-29T20:46:42.411875900Z",
     "start_time": "2024-06-29T20:46:42.357342900Z"
    }
   },
   "execution_count": 7,
   "outputs": [
    {
     "name": "stdout",
     "output_type": "stream",
     "text": [
      "X____\n"
     ]
    }
   ]
  },
  {
   "cell_type": "code",
   "source": [
    "env.score()"
   ],
   "metadata": {
    "colab": {
     "base_uri": "https://localhost:8080/"
    },
    "id": "cyfFNA-ixB2W",
    "outputId": "688551cd-b1c2-4d83-cb0a-7af1c387a71a",
    "ExecuteTime": {
     "end_time": "2024-06-29T20:46:42.412877500Z",
     "start_time": "2024-06-29T20:46:42.361858800Z"
    }
   },
   "execution_count": 8,
   "outputs": [
    {
     "data": {
      "text/plain": "-1.0"
     },
     "execution_count": 8,
     "metadata": {},
     "output_type": "execute_result"
    }
   ]
  },
  {
   "cell_type": "code",
   "source": [
    "env.reset()\n",
    "env.display()"
   ],
   "metadata": {
    "colab": {
     "base_uri": "https://localhost:8080/"
    },
    "id": "rGoSbLaKxDqq",
    "outputId": "2c08f8ca-eb58-4433-f29e-9d9ebc449a44",
    "ExecuteTime": {
     "end_time": "2024-06-29T20:46:42.412877500Z",
     "start_time": "2024-06-29T20:46:42.369400700Z"
    }
   },
   "execution_count": 9,
   "outputs": [
    {
     "name": "stdout",
     "output_type": "stream",
     "text": [
      "__X__\n"
     ]
    }
   ]
  },
  {
   "cell_type": "code",
   "source": [
    "env.step(1)\n",
    "env.display()"
   ],
   "metadata": {
    "colab": {
     "base_uri": "https://localhost:8080/"
    },
    "id": "lfStMSKkxNYz",
    "outputId": "3e467cfd-3894-43ab-e4c1-d9e432ad7618",
    "ExecuteTime": {
     "end_time": "2024-06-29T20:46:42.413875600Z",
     "start_time": "2024-06-29T20:46:42.376630800Z"
    }
   },
   "execution_count": 10,
   "outputs": [
    {
     "name": "stdout",
     "output_type": "stream",
     "text": [
      "___X_\n"
     ]
    }
   ]
  },
  {
   "cell_type": "code",
   "source": [
    "env.step(1)\n",
    "env.display()"
   ],
   "metadata": {
    "colab": {
     "base_uri": "https://localhost:8080/"
    },
    "id": "ZvIVRKv3xSgh",
    "outputId": "5819df15-9bbf-44c4-d29d-ba656a8f3e71",
    "ExecuteTime": {
     "end_time": "2024-06-29T20:46:42.413875600Z",
     "start_time": "2024-06-29T20:46:42.380636900Z"
    }
   },
   "execution_count": 11,
   "outputs": [
    {
     "name": "stdout",
     "output_type": "stream",
     "text": [
      "____X\n"
     ]
    }
   ]
  },
  {
   "cell_type": "code",
   "source": [
    "env.score()"
   ],
   "metadata": {
    "colab": {
     "base_uri": "https://localhost:8080/"
    },
    "id": "f6s38EkmxTWI",
    "outputId": "d118529e-9927-4b57-b9eb-efbdf6a296f5",
    "ExecuteTime": {
     "end_time": "2024-06-29T20:46:42.414876500Z",
     "start_time": "2024-06-29T20:46:42.385374300Z"
    }
   },
   "execution_count": 12,
   "outputs": [
    {
     "data": {
      "text/plain": "1.0"
     },
     "execution_count": 12,
     "metadata": {},
     "output_type": "execute_result"
    }
   ]
  },
  {
   "cell_type": "code",
   "source": [
    "for _ in range(10):\n",
    "  env = LineWorld.from_random_state()\n",
    "  env.display()"
   ],
   "metadata": {
    "colab": {
     "base_uri": "https://localhost:8080/"
    },
    "id": "PDuPZLJJxUdm",
    "outputId": "75931dd3-5a4b-4258-c671-fff4f29cb48f",
    "ExecuteTime": {
     "end_time": "2024-06-29T20:46:42.426355Z",
     "start_time": "2024-06-29T20:46:42.392906800Z"
    }
   },
   "execution_count": 13,
   "outputs": [
    {
     "name": "stdout",
     "output_type": "stream",
     "text": [
      "___X_\n",
      "_X___\n",
      "___X_\n",
      "_X___\n",
      "___X_\n",
      "__X__\n",
      "___X_\n",
      "_X___\n",
      "_X___\n",
      "__X__\n"
     ]
    }
   ]
  },
  {
   "cell_type": "code",
   "source": [
    "# Monte Carlo ES\n",
    "def naive_monte_carlo_with_exploring_starts(env_type,\n",
    "                                            gamma: float = 0.999,\n",
    "                                            nb_iter: int = 10000,\n",
    "                                            max_steps: int = 10):\n",
    "  Pi = {}\n",
    "  Q = {}\n",
    "  Returns = {}\n",
    "\n",
    "  for it in tqdm(range(nb_iter)):\n",
    "    env = env_type.from_random_state()\n",
    "\n",
    "    is_first_action = True\n",
    "    trajectory = []\n",
    "    steps_count = 0\n",
    "    while not env.is_game_over() and steps_count < max_steps:\n",
    "      s = env.state_id()\n",
    "      aa = env.available_actions()\n",
    "\n",
    "      if s not in Pi:\n",
    "        Pi[s] = np.random.choice(aa)\n",
    "\n",
    "      if is_first_action:\n",
    "        a = np.random.choice(aa)\n",
    "        is_first_action = False\n",
    "      else:\n",
    "        a = Pi[s]\n",
    "\n",
    "      prev_score = env.score()\n",
    "      env.step(a)\n",
    "      r = env.score() - prev_score\n",
    "\n",
    "      trajectory.append((s, a, r, aa))\n",
    "      steps_count += 1\n",
    "\n",
    "    G = 0\n",
    "    print(trajectory)\n",
    "    for (t, (s, a, r, aa)) in reversed(list(enumerate(trajectory))):\n",
    "      G = gamma * G + r\n",
    "      print(t)\n",
    "      print((s, a, r, aa))\n",
    "      if all(map(lambda triplet: triplet[0] != s or triplet[1] != a, trajectory[:t])):\n",
    "        if (s, a) not in Returns:\n",
    "          Returns[(s, a)] = []\n",
    "        Returns[(s, a)].append(G)\n",
    "        print(f\"action = {a}, state = {s}\")\n",
    "        print(f\"goal = {G}\")\n",
    "        print(Returns)\n",
    "        Q[(s, a)] = np.mean(Returns[(s, a)])\n",
    "\n",
    "        best_a = None\n",
    "        best_a_score = 0.0\n",
    "        for a in aa:\n",
    "          if (s, a) not in Q:\n",
    "            Q[(s, a)] = np.random.random()\n",
    "          if best_a is None or Q[(s, a)] > best_a_score:\n",
    "            best_a = a\n",
    "            best_a_score = Q[(s, a)]\n",
    "\n",
    "        Pi[s] = best_a\n",
    "    # print(Pi)\n",
    "    # print(Q)\n",
    "    # print(Returns)\n",
    "  return Pi"
   ],
   "metadata": {
    "id": "t7fc51h-xb2b",
    "ExecuteTime": {
     "end_time": "2024-06-29T23:13:13.527632100Z",
     "start_time": "2024-06-29T23:13:13.463116800Z"
    }
   },
   "execution_count": 59,
   "outputs": []
  },
  {
   "cell_type": "code",
   "source": [
    "naive_monte_carlo_with_exploring_starts(LineWorld, nb_iter=10)"
   ],
   "metadata": {
    "colab": {
     "base_uri": "https://localhost:8080/"
    },
    "id": "1OeQK_nF3I_l",
    "outputId": "74e0d476-5f63-47d5-b7d4-91169e134d59",
    "ExecuteTime": {
     "end_time": "2024-06-29T23:13:13.762732100Z",
     "start_time": "2024-06-29T23:13:13.747734800Z"
    }
   },
   "execution_count": 60,
   "outputs": [
    {
     "name": "stderr",
     "output_type": "stream",
     "text": [
      "100%|██████████| 10/10 [00:00<00:00, 6616.67it/s]"
     ]
    },
    {
     "name": "stdout",
     "output_type": "stream",
     "text": [
      "[(2, 1, 0.0, [0, 1]), (3, 1, 1.0, [0, 1])]\n",
      "1\n",
      "(3, 1, 1.0, [0, 1])\n",
      "action = 1, state = 3\n",
      "goal = 1.0\n",
      "{(3, 1): [1.0]}\n",
      "0\n",
      "(2, 1, 0.0, [0, 1])\n",
      "action = 1, state = 2\n",
      "goal = 0.999\n",
      "{(3, 1): [1.0], (2, 1): [0.999]}\n",
      "[(1, 1, 0.0, [0, 1]), (2, 1, 0.0, [0, 1]), (3, 1, 1.0, [0, 1])]\n",
      "2\n",
      "(3, 1, 1.0, [0, 1])\n",
      "action = 1, state = 3\n",
      "goal = 1.0\n",
      "{(3, 1): [1.0, 1.0], (2, 1): [0.999]}\n",
      "1\n",
      "(2, 1, 0.0, [0, 1])\n",
      "action = 1, state = 2\n",
      "goal = 0.999\n",
      "{(3, 1): [1.0, 1.0], (2, 1): [0.999, 0.999]}\n",
      "0\n",
      "(1, 1, 0.0, [0, 1])\n",
      "action = 1, state = 1\n",
      "goal = 0.998001\n",
      "{(3, 1): [1.0, 1.0], (2, 1): [0.999, 0.999], (1, 1): [0.998001]}\n",
      "[(1, 1, 0.0, [0, 1]), (2, 1, 0.0, [0, 1]), (3, 1, 1.0, [0, 1])]\n",
      "2\n",
      "(3, 1, 1.0, [0, 1])\n",
      "action = 1, state = 3\n",
      "goal = 1.0\n",
      "{(3, 1): [1.0, 1.0, 1.0], (2, 1): [0.999, 0.999], (1, 1): [0.998001]}\n",
      "1\n",
      "(2, 1, 0.0, [0, 1])\n",
      "action = 1, state = 2\n",
      "goal = 0.999\n",
      "{(3, 1): [1.0, 1.0, 1.0], (2, 1): [0.999, 0.999, 0.999], (1, 1): [0.998001]}\n",
      "0\n",
      "(1, 1, 0.0, [0, 1])\n",
      "action = 1, state = 1\n",
      "goal = 0.998001\n",
      "{(3, 1): [1.0, 1.0, 1.0], (2, 1): [0.999, 0.999, 0.999], (1, 1): [0.998001, 0.998001]}\n",
      "[(1, 1, 0.0, [0, 1]), (2, 1, 0.0, [0, 1]), (3, 1, 1.0, [0, 1])]\n",
      "2\n",
      "(3, 1, 1.0, [0, 1])\n",
      "action = 1, state = 3\n",
      "goal = 1.0\n",
      "{(3, 1): [1.0, 1.0, 1.0, 1.0], (2, 1): [0.999, 0.999, 0.999], (1, 1): [0.998001, 0.998001]}\n",
      "1\n",
      "(2, 1, 0.0, [0, 1])\n",
      "action = 1, state = 2\n",
      "goal = 0.999\n",
      "{(3, 1): [1.0, 1.0, 1.0, 1.0], (2, 1): [0.999, 0.999, 0.999, 0.999], (1, 1): [0.998001, 0.998001]}\n",
      "0\n",
      "(1, 1, 0.0, [0, 1])\n",
      "action = 1, state = 1\n",
      "goal = 0.998001\n",
      "{(3, 1): [1.0, 1.0, 1.0, 1.0], (2, 1): [0.999, 0.999, 0.999, 0.999], (1, 1): [0.998001, 0.998001, 0.998001]}\n",
      "[(3, 0, 0.0, [0, 1]), (2, 1, 0.0, [0, 1]), (3, 1, 1.0, [0, 1])]\n",
      "2\n",
      "(3, 1, 1.0, [0, 1])\n",
      "action = 1, state = 3\n",
      "goal = 1.0\n",
      "{(3, 1): [1.0, 1.0, 1.0, 1.0, 1.0], (2, 1): [0.999, 0.999, 0.999, 0.999], (1, 1): [0.998001, 0.998001, 0.998001]}\n",
      "1\n",
      "(2, 1, 0.0, [0, 1])\n",
      "action = 1, state = 2\n",
      "goal = 0.999\n",
      "{(3, 1): [1.0, 1.0, 1.0, 1.0, 1.0], (2, 1): [0.999, 0.999, 0.999, 0.999, 0.999], (1, 1): [0.998001, 0.998001, 0.998001]}\n",
      "0\n",
      "(3, 0, 0.0, [0, 1])\n",
      "action = 0, state = 3\n",
      "goal = 0.998001\n",
      "{(3, 1): [1.0, 1.0, 1.0, 1.0, 1.0], (2, 1): [0.999, 0.999, 0.999, 0.999, 0.999], (1, 1): [0.998001, 0.998001, 0.998001], (3, 0): [0.998001]}\n",
      "[(2, 1, 0.0, [0, 1]), (3, 1, 1.0, [0, 1])]\n",
      "1\n",
      "(3, 1, 1.0, [0, 1])\n",
      "action = 1, state = 3\n",
      "goal = 1.0\n",
      "{(3, 1): [1.0, 1.0, 1.0, 1.0, 1.0, 1.0], (2, 1): [0.999, 0.999, 0.999, 0.999, 0.999], (1, 1): [0.998001, 0.998001, 0.998001], (3, 0): [0.998001]}\n",
      "0\n",
      "(2, 1, 0.0, [0, 1])\n",
      "action = 1, state = 2\n",
      "goal = 0.999\n",
      "{(3, 1): [1.0, 1.0, 1.0, 1.0, 1.0, 1.0], (2, 1): [0.999, 0.999, 0.999, 0.999, 0.999, 0.999], (1, 1): [0.998001, 0.998001, 0.998001], (3, 0): [0.998001]}\n",
      "[(2, 1, 0.0, [0, 1]), (3, 1, 1.0, [0, 1])]\n",
      "1\n",
      "(3, 1, 1.0, [0, 1])\n",
      "action = 1, state = 3\n",
      "goal = 1.0\n",
      "{(3, 1): [1.0, 1.0, 1.0, 1.0, 1.0, 1.0, 1.0], (2, 1): [0.999, 0.999, 0.999, 0.999, 0.999, 0.999], (1, 1): [0.998001, 0.998001, 0.998001], (3, 0): [0.998001]}\n",
      "0\n",
      "(2, 1, 0.0, [0, 1])\n",
      "action = 1, state = 2\n",
      "goal = 0.999\n",
      "{(3, 1): [1.0, 1.0, 1.0, 1.0, 1.0, 1.0, 1.0], (2, 1): [0.999, 0.999, 0.999, 0.999, 0.999, 0.999, 0.999], (1, 1): [0.998001, 0.998001, 0.998001], (3, 0): [0.998001]}\n",
      "[(3, 1, 1.0, [0, 1])]\n",
      "0\n",
      "(3, 1, 1.0, [0, 1])\n",
      "action = 1, state = 3\n",
      "goal = 1.0\n",
      "{(3, 1): [1.0, 1.0, 1.0, 1.0, 1.0, 1.0, 1.0, 1.0], (2, 1): [0.999, 0.999, 0.999, 0.999, 0.999, 0.999, 0.999], (1, 1): [0.998001, 0.998001, 0.998001], (3, 0): [0.998001]}\n",
      "[(2, 1, 0.0, [0, 1]), (3, 1, 1.0, [0, 1])]\n",
      "1\n",
      "(3, 1, 1.0, [0, 1])\n",
      "action = 1, state = 3\n",
      "goal = 1.0\n",
      "{(3, 1): [1.0, 1.0, 1.0, 1.0, 1.0, 1.0, 1.0, 1.0, 1.0], (2, 1): [0.999, 0.999, 0.999, 0.999, 0.999, 0.999, 0.999], (1, 1): [0.998001, 0.998001, 0.998001], (3, 0): [0.998001]}\n",
      "0\n",
      "(2, 1, 0.0, [0, 1])\n",
      "action = 1, state = 2\n",
      "goal = 0.999\n",
      "{(3, 1): [1.0, 1.0, 1.0, 1.0, 1.0, 1.0, 1.0, 1.0, 1.0], (2, 1): [0.999, 0.999, 0.999, 0.999, 0.999, 0.999, 0.999, 0.999], (1, 1): [0.998001, 0.998001, 0.998001], (3, 0): [0.998001]}\n",
      "[(1, 1, 0.0, [0, 1]), (2, 1, 0.0, [0, 1]), (3, 1, 1.0, [0, 1])]\n",
      "2\n",
      "(3, 1, 1.0, [0, 1])\n",
      "action = 1, state = 3\n",
      "goal = 1.0\n",
      "{(3, 1): [1.0, 1.0, 1.0, 1.0, 1.0, 1.0, 1.0, 1.0, 1.0, 1.0], (2, 1): [0.999, 0.999, 0.999, 0.999, 0.999, 0.999, 0.999, 0.999], (1, 1): [0.998001, 0.998001, 0.998001], (3, 0): [0.998001]}\n",
      "1\n",
      "(2, 1, 0.0, [0, 1])\n",
      "action = 1, state = 2\n",
      "goal = 0.999\n",
      "{(3, 1): [1.0, 1.0, 1.0, 1.0, 1.0, 1.0, 1.0, 1.0, 1.0, 1.0], (2, 1): [0.999, 0.999, 0.999, 0.999, 0.999, 0.999, 0.999, 0.999, 0.999], (1, 1): [0.998001, 0.998001, 0.998001], (3, 0): [0.998001]}\n",
      "0\n",
      "(1, 1, 0.0, [0, 1])\n",
      "action = 1, state = 1\n",
      "goal = 0.998001\n",
      "{(3, 1): [1.0, 1.0, 1.0, 1.0, 1.0, 1.0, 1.0, 1.0, 1.0, 1.0], (2, 1): [0.999, 0.999, 0.999, 0.999, 0.999, 0.999, 0.999, 0.999, 0.999], (1, 1): [0.998001, 0.998001, 0.998001, 0.998001], (3, 0): [0.998001]}\n"
     ]
    },
    {
     "name": "stderr",
     "output_type": "stream",
     "text": [
      "\n"
     ]
    },
    {
     "data": {
      "text/plain": "{2: 1, 3: 1, 1: 1}"
     },
     "execution_count": 60,
     "metadata": {},
     "output_type": "execute_result"
    }
   ]
  },
  {
   "cell_type": "code",
   "source": [],
   "metadata": {
    "id": "7M1pVtwp3N45"
   },
   "execution_count": null,
   "outputs": []
  }
 ]
}
