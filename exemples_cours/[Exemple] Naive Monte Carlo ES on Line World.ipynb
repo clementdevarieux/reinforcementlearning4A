{
  "nbformat": 4,
  "nbformat_minor": 0,
  "metadata": {
    "colab": {
      "provenance": []
    },
    "kernelspec": {
      "name": "python3",
      "display_name": "Python 3"
    },
    "language_info": {
      "name": "python"
    }
  },
  "cells": [
    {
      "cell_type": "code",
      "source": [
        "import numpy as np\n",
        "from typing import List\n",
        "from tqdm import tqdm"
      ],
      "metadata": {
        "id": "s-XvXEhItokg"
      },
      "execution_count": null,
      "outputs": []
    },
    {
      "cell_type": "code",
      "execution_count": null,
      "metadata": {
        "id": "4HRJFSnesnvB"
      },
      "outputs": [],
      "source": [
        "class LineWorld:\n",
        "  def __init__(self):\n",
        "    self.agent_pos = 2\n",
        "\n",
        "  # Uniquement pour le MonteCarloES\n",
        "  def from_random_state() -> 'LineWorld':\n",
        "    env = LineWorld()\n",
        "    env.agent_pos = np.random.randint(1, 4)\n",
        "    return env\n",
        "\n",
        "  def available_actions(self) -> List[int]:\n",
        "    if self.agent_pos in [1, 2, 3]:\n",
        "      return [0, 1] # 0: left, 1: right\n",
        "    return []\n",
        "\n",
        "  def is_game_over(self) -> bool:\n",
        "    return True if self.agent_pos in [0, 4] else False\n",
        "\n",
        "  def state_id(self) -> int:\n",
        "    return self.agent_pos\n",
        "\n",
        "  def step(self, action: int):\n",
        "    assert(not self.is_game_over())\n",
        "    assert(action in self.available_actions())\n",
        "\n",
        "    if action == 0:\n",
        "      self.agent_pos -= 1\n",
        "    else:\n",
        "      self.agent_pos += 1\n",
        "\n",
        "  def score(self) -> float:\n",
        "    if self.agent_pos == 0:\n",
        "      return -1.0\n",
        "    if self.agent_pos == 4:\n",
        "      return 1.0\n",
        "    return 0.0\n",
        "\n",
        "  def display(self):\n",
        "    for i in range(5):\n",
        "      print('X' if self.agent_pos == i else '_', end='')\n",
        "    print()\n",
        "\n",
        "  def reset(self):\n",
        "    self.agent_pos = 2"
      ]
    },
    {
      "cell_type": "code",
      "source": [
        "env = LineWorld()"
      ],
      "metadata": {
        "id": "P0x8ejaLw2-K"
      },
      "execution_count": null,
      "outputs": []
    },
    {
      "cell_type": "code",
      "source": [
        "env.display()"
      ],
      "metadata": {
        "colab": {
          "base_uri": "https://localhost:8080/"
        },
        "id": "iZeyVFeRw4yg",
        "outputId": "02bd2350-5192-4829-d01b-7e65a87f1fdf"
      },
      "execution_count": null,
      "outputs": [
        {
          "output_type": "stream",
          "name": "stdout",
          "text": [
            "__X__\n"
          ]
        }
      ]
    },
    {
      "cell_type": "code",
      "source": [
        "env.available_actions()"
      ],
      "metadata": {
        "colab": {
          "base_uri": "https://localhost:8080/"
        },
        "id": "apuGDU12w6TP",
        "outputId": "3d0312c2-1ba9-4aa4-fbd1-35281b3e5037"
      },
      "execution_count": null,
      "outputs": [
        {
          "output_type": "execute_result",
          "data": {
            "text/plain": [
              "[0, 1]"
            ]
          },
          "metadata": {},
          "execution_count": 5
        }
      ]
    },
    {
      "cell_type": "code",
      "source": [
        "env.step(0)\n",
        "env.display()"
      ],
      "metadata": {
        "colab": {
          "base_uri": "https://localhost:8080/"
        },
        "id": "vtNpkNgcw89P",
        "outputId": "1c98eb07-8305-46c1-bfc4-0b5f4da3f383"
      },
      "execution_count": null,
      "outputs": [
        {
          "output_type": "stream",
          "name": "stdout",
          "text": [
            "_X___\n"
          ]
        }
      ]
    },
    {
      "cell_type": "code",
      "source": [
        "env.step(0)\n",
        "env.display()"
      ],
      "metadata": {
        "colab": {
          "base_uri": "https://localhost:8080/"
        },
        "id": "ayBD8v3fxAUt",
        "outputId": "cf97758f-9c9e-42a3-8103-e50ca3dc38fe"
      },
      "execution_count": null,
      "outputs": [
        {
          "output_type": "stream",
          "name": "stdout",
          "text": [
            "X____\n"
          ]
        }
      ]
    },
    {
      "cell_type": "code",
      "source": [
        "env.score()"
      ],
      "metadata": {
        "colab": {
          "base_uri": "https://localhost:8080/"
        },
        "id": "cyfFNA-ixB2W",
        "outputId": "688551cd-b1c2-4d83-cb0a-7af1c387a71a"
      },
      "execution_count": null,
      "outputs": [
        {
          "output_type": "execute_result",
          "data": {
            "text/plain": [
              "-1.0"
            ]
          },
          "metadata": {},
          "execution_count": 8
        }
      ]
    },
    {
      "cell_type": "code",
      "source": [
        "env.reset()\n",
        "env.display()"
      ],
      "metadata": {
        "colab": {
          "base_uri": "https://localhost:8080/"
        },
        "id": "rGoSbLaKxDqq",
        "outputId": "2c08f8ca-eb58-4433-f29e-9d9ebc449a44"
      },
      "execution_count": null,
      "outputs": [
        {
          "output_type": "stream",
          "name": "stdout",
          "text": [
            "__X__\n"
          ]
        }
      ]
    },
    {
      "cell_type": "code",
      "source": [
        "env.step(1)\n",
        "env.display()"
      ],
      "metadata": {
        "colab": {
          "base_uri": "https://localhost:8080/"
        },
        "id": "lfStMSKkxNYz",
        "outputId": "3e467cfd-3894-43ab-e4c1-d9e432ad7618"
      },
      "execution_count": null,
      "outputs": [
        {
          "output_type": "stream",
          "name": "stdout",
          "text": [
            "___X_\n"
          ]
        }
      ]
    },
    {
      "cell_type": "code",
      "source": [
        "env.step(1)\n",
        "env.display()"
      ],
      "metadata": {
        "colab": {
          "base_uri": "https://localhost:8080/"
        },
        "id": "ZvIVRKv3xSgh",
        "outputId": "5819df15-9bbf-44c4-d29d-ba656a8f3e71"
      },
      "execution_count": null,
      "outputs": [
        {
          "output_type": "stream",
          "name": "stdout",
          "text": [
            "____X\n"
          ]
        }
      ]
    },
    {
      "cell_type": "code",
      "source": [
        "env.score()"
      ],
      "metadata": {
        "colab": {
          "base_uri": "https://localhost:8080/"
        },
        "id": "f6s38EkmxTWI",
        "outputId": "d118529e-9927-4b57-b9eb-efbdf6a296f5"
      },
      "execution_count": null,
      "outputs": [
        {
          "output_type": "execute_result",
          "data": {
            "text/plain": [
              "1.0"
            ]
          },
          "metadata": {},
          "execution_count": 12
        }
      ]
    },
    {
      "cell_type": "code",
      "source": [
        "for _ in range(10):\n",
        "  env = LineWorld.from_random_state()\n",
        "  env.display()"
      ],
      "metadata": {
        "colab": {
          "base_uri": "https://localhost:8080/"
        },
        "id": "PDuPZLJJxUdm",
        "outputId": "75931dd3-5a4b-4258-c671-fff4f29cb48f"
      },
      "execution_count": null,
      "outputs": [
        {
          "output_type": "stream",
          "name": "stdout",
          "text": [
            "_X___\n",
            "_X___\n",
            "__X__\n",
            "__X__\n",
            "___X_\n",
            "_X___\n",
            "___X_\n",
            "___X_\n",
            "_X___\n",
            "_X___\n"
          ]
        }
      ]
    },
    {
      "cell_type": "code",
      "source": [
        "# Monte Carlo ES\n",
        "def naive_monte_carlo_with_exploring_starts(env_type,\n",
        "                                            gamma: float = 0.999,\n",
        "                                            nb_iter: int = 10000,\n",
        "                                            max_steps: int = 10):\n",
        "  Pi = {}\n",
        "  Q = {}\n",
        "  Returns = {}\n",
        "\n",
        "  for it in tqdm(range(nb_iter)):\n",
        "    env = env_type.from_random_state()\n",
        "\n",
        "    is_first_action = True\n",
        "    trajectory = []\n",
        "    steps_count = 0\n",
        "    while not env.is_game_over() and steps_count < max_steps:\n",
        "      s = env.state_id()\n",
        "      aa = env.available_actions()\n",
        "\n",
        "      if s not in Pi:\n",
        "        Pi[s] = np.random.choice(aa)\n",
        "\n",
        "      if is_first_action:\n",
        "        a = np.random.choice(aa)\n",
        "        is_first_action = False\n",
        "      else:\n",
        "        a = Pi[s]\n",
        "\n",
        "      prev_score = env.score()\n",
        "      env.step(a)\n",
        "      r = env.score() - prev_score\n",
        "\n",
        "      trajectory.append((s, a, r, aa))\n",
        "      steps_count += 1\n",
        "\n",
        "    G = 0\n",
        "    for (t, (s, a, r, aa)) in reversed(list(enumerate(trajectory))):\n",
        "      G = gamma * G + r\n",
        "\n",
        "      if all(map(lambda triplet: triplet[0] != s or triplet[1] != a, trajectory[:t])):\n",
        "        if (s, a) not in Returns:\n",
        "          Returns[(s, a)] = []\n",
        "        Returns[(s, a)].append(G)\n",
        "        Q[(s, a)] = np.mean(Returns[(s, a)])\n",
        "\n",
        "        best_a = None\n",
        "        best_a_score = 0.0\n",
        "        for a in aa:\n",
        "          if (s, a) not in Q:\n",
        "            Q[(s, a)] = np.random.random()\n",
        "          if best_a is None or Q[(s, a)] > best_a_score:\n",
        "            best_a = a\n",
        "            best_a_score = Q[(s, a)]\n",
        "\n",
        "        Pi[s] = best_a\n",
        "  return Pi"
      ],
      "metadata": {
        "id": "t7fc51h-xb2b"
      },
      "execution_count": null,
      "outputs": []
    },
    {
      "cell_type": "code",
      "source": [
        "naive_monte_carlo_with_exploring_starts(LineWorld)"
      ],
      "metadata": {
        "colab": {
          "base_uri": "https://localhost:8080/"
        },
        "id": "1OeQK_nF3I_l",
        "outputId": "74e0d476-5f63-47d5-b7d4-91169e134d59"
      },
      "execution_count": null,
      "outputs": [
        {
          "output_type": "stream",
          "name": "stderr",
          "text": [
            "100%|██████████| 10000/10000 [00:09<00:00, 1074.01it/s]\n"
          ]
        },
        {
          "output_type": "execute_result",
          "data": {
            "text/plain": [
              "{3: 1, 2: 1, 1: 1}"
            ]
          },
          "metadata": {},
          "execution_count": 15
        }
      ]
    },
    {
      "cell_type": "code",
      "source": [],
      "metadata": {
        "id": "7M1pVtwp3N45"
      },
      "execution_count": null,
      "outputs": []
    }
  ]
}