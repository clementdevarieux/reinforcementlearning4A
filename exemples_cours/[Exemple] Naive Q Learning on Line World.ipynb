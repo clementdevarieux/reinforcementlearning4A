{
  "nbformat": 4,
  "nbformat_minor": 0,
  "metadata": {
    "colab": {
      "provenance": []
    },
    "kernelspec": {
      "name": "python3",
      "display_name": "Python 3"
    },
    "language_info": {
      "name": "python"
    }
  },
  "cells": [
    {
      "cell_type": "code",
      "source": [
        "import numpy as np\n",
        "from typing import List\n",
        "from tqdm import tqdm"
      ],
      "metadata": {
        "id": "s-XvXEhItokg"
      },
      "execution_count": null,
      "outputs": []
    },
    {
      "cell_type": "code",
      "execution_count": null,
      "metadata": {
        "id": "4HRJFSnesnvB"
      },
      "outputs": [],
      "source": [
        "class LineWorld:\n",
        "  def __init__(self):\n",
        "    self.agent_pos = 2\n",
        "\n",
        "  def available_actions(self) -> List[int]:\n",
        "    if self.agent_pos in [1, 2, 3]:\n",
        "      return [0, 1] # 0: left, 1: right\n",
        "    return []\n",
        "\n",
        "  def is_game_over(self) -> bool:\n",
        "    return True if self.agent_pos in [0, 4] else False\n",
        "\n",
        "  def state_id(self) -> int:\n",
        "    return self.agent_pos\n",
        "\n",
        "  def step(self, action: int):\n",
        "    assert(not self.is_game_over())\n",
        "    assert(action in self.available_actions())\n",
        "\n",
        "    if action == 0:\n",
        "      self.agent_pos -= 1\n",
        "    else:\n",
        "      self.agent_pos += 1\n",
        "\n",
        "  def score(self) -> float:\n",
        "    if self.agent_pos == 0:\n",
        "      return -1.0\n",
        "    if self.agent_pos == 4:\n",
        "      return 1.0\n",
        "    return 0.0\n",
        "\n",
        "  def display(self):\n",
        "    for i in range(5):\n",
        "      print('X' if self.agent_pos == i else '_', end='')\n",
        "    print()\n",
        "\n",
        "  def reset(self):\n",
        "    self.agent_pos = 2"
      ]
    },
    {
      "cell_type": "code",
      "source": [
        "env = LineWorld()"
      ],
      "metadata": {
        "id": "P0x8ejaLw2-K"
      },
      "execution_count": null,
      "outputs": []
    },
    {
      "cell_type": "code",
      "source": [
        "env.display()"
      ],
      "metadata": {
        "colab": {
          "base_uri": "https://localhost:8080/"
        },
        "id": "iZeyVFeRw4yg",
        "outputId": "4f644068-f069-42d3-aee2-84be7a2c57b8"
      },
      "execution_count": null,
      "outputs": [
        {
          "output_type": "stream",
          "name": "stdout",
          "text": [
            "__X__\n"
          ]
        }
      ]
    },
    {
      "cell_type": "code",
      "source": [
        "env.available_actions()"
      ],
      "metadata": {
        "colab": {
          "base_uri": "https://localhost:8080/"
        },
        "id": "apuGDU12w6TP",
        "outputId": "ec2a00d6-dd19-44b8-d1b2-e040c0506b24"
      },
      "execution_count": null,
      "outputs": [
        {
          "output_type": "execute_result",
          "data": {
            "text/plain": [
              "[0, 1]"
            ]
          },
          "metadata": {},
          "execution_count": 37
        }
      ]
    },
    {
      "cell_type": "code",
      "source": [
        "env.step(0)\n",
        "env.display()"
      ],
      "metadata": {
        "colab": {
          "base_uri": "https://localhost:8080/"
        },
        "id": "vtNpkNgcw89P",
        "outputId": "3378b498-84e4-44ce-941f-4cd9cefd7cd6"
      },
      "execution_count": null,
      "outputs": [
        {
          "output_type": "stream",
          "name": "stdout",
          "text": [
            "_X___\n"
          ]
        }
      ]
    },
    {
      "cell_type": "code",
      "source": [
        "env.step(0)\n",
        "env.display()"
      ],
      "metadata": {
        "colab": {
          "base_uri": "https://localhost:8080/"
        },
        "id": "ayBD8v3fxAUt",
        "outputId": "38458beb-9d16-4534-95b4-e34f556633ec"
      },
      "execution_count": null,
      "outputs": [
        {
          "output_type": "stream",
          "name": "stdout",
          "text": [
            "X____\n"
          ]
        }
      ]
    },
    {
      "cell_type": "code",
      "source": [
        "env.score()"
      ],
      "metadata": {
        "colab": {
          "base_uri": "https://localhost:8080/"
        },
        "id": "cyfFNA-ixB2W",
        "outputId": "994943ac-b132-46dd-92b0-a08f3fd949fe"
      },
      "execution_count": null,
      "outputs": [
        {
          "output_type": "execute_result",
          "data": {
            "text/plain": [
              "-1.0"
            ]
          },
          "metadata": {},
          "execution_count": 40
        }
      ]
    },
    {
      "cell_type": "code",
      "source": [
        "env.reset()\n",
        "env.display()"
      ],
      "metadata": {
        "colab": {
          "base_uri": "https://localhost:8080/"
        },
        "id": "rGoSbLaKxDqq",
        "outputId": "8c12aacc-b924-4c43-a3cf-65a0fc466203"
      },
      "execution_count": null,
      "outputs": [
        {
          "output_type": "stream",
          "name": "stdout",
          "text": [
            "__X__\n"
          ]
        }
      ]
    },
    {
      "cell_type": "code",
      "source": [
        "env.step(1)\n",
        "env.display()"
      ],
      "metadata": {
        "colab": {
          "base_uri": "https://localhost:8080/"
        },
        "id": "lfStMSKkxNYz",
        "outputId": "285f53f3-2822-400c-e3a8-1a7207104a30"
      },
      "execution_count": null,
      "outputs": [
        {
          "output_type": "stream",
          "name": "stdout",
          "text": [
            "___X_\n"
          ]
        }
      ]
    },
    {
      "cell_type": "code",
      "source": [
        "env.step(1)\n",
        "env.display()"
      ],
      "metadata": {
        "colab": {
          "base_uri": "https://localhost:8080/"
        },
        "id": "ZvIVRKv3xSgh",
        "outputId": "4aa00109-e986-410d-ff62-9b3cbff77c94"
      },
      "execution_count": null,
      "outputs": [
        {
          "output_type": "stream",
          "name": "stdout",
          "text": [
            "____X\n"
          ]
        }
      ]
    },
    {
      "cell_type": "code",
      "source": [
        "env.score()"
      ],
      "metadata": {
        "colab": {
          "base_uri": "https://localhost:8080/"
        },
        "id": "f6s38EkmxTWI",
        "outputId": "1b3b3c09-f750-4593-fefc-c5789a42427c"
      },
      "execution_count": null,
      "outputs": [
        {
          "output_type": "execute_result",
          "data": {
            "text/plain": [
              "1.0"
            ]
          },
          "metadata": {},
          "execution_count": 44
        }
      ]
    },
    {
      "cell_type": "code",
      "source": [
        "# QLearning (off policy TD control)\n",
        "def naive_q_learning(env_type,\n",
        "                     alpha: float = 0.1,\n",
        "                     epsilon: float = 0.1,\n",
        "                     gamma: float = 0.999,\n",
        "                     nb_iter: int = 100000):\n",
        "  Q = {}\n",
        "\n",
        "  env = env_type()\n",
        "  for it in tqdm(range(nb_iter)):\n",
        "    env.reset()\n",
        "\n",
        "    while not env.is_game_over():\n",
        "\n",
        "      s = env.state_id()\n",
        "\n",
        "      aa = env.available_actions()\n",
        "\n",
        "      if s not in Q:\n",
        "        Q[s] = {}\n",
        "        for a in aa:\n",
        "          Q[s][a] = np.random.random()\n",
        "\n",
        "\n",
        "      if np.random.random() < epsilon:\n",
        "        a = np.random.choice(aa)\n",
        "      else:\n",
        "        q_s = [Q[s][a] for a in aa]\n",
        "        best_a_index = np.argmax(q_s)\n",
        "        a = aa[best_a_index]\n",
        "\n",
        "      prev_score = env.score()\n",
        "      env.step(a)\n",
        "      r = env.score() - prev_score\n",
        "\n",
        "      s_p = env.state_id()\n",
        "      aa_p = env.available_actions()\n",
        "\n",
        "      if env.is_game_over():\n",
        "        target = r\n",
        "      else:\n",
        "        if s_p not in Q:\n",
        "          Q[s_p] = {}\n",
        "          for a_p in aa_p:\n",
        "            Q[s_p][a_p] = np.random.random()\n",
        "\n",
        "        q_s_p = [Q[s_p][a_p] for a_p in aa_p]\n",
        "        max_a_p = np.max(q_s_p)\n",
        "        target = r + gamma * max_a_p\n",
        "\n",
        "      Q[s][a] = (1 - alpha) * Q[s][a] + alpha * target\n",
        "\n",
        "\n",
        "  Pi = {}\n",
        "  for s in Q.keys():\n",
        "    best_a = None\n",
        "    best_a_score = 0.0\n",
        "\n",
        "    for a, a_score in Q[s].items():\n",
        "      if best_a is None or best_a_score <= a_score:\n",
        "        best_a = a\n",
        "        best_a_score = a_score\n",
        "\n",
        "    Pi[s] = best_a\n",
        "\n",
        "  return Pi, Q"
      ],
      "metadata": {
        "id": "t7fc51h-xb2b"
      },
      "execution_count": null,
      "outputs": []
    },
    {
      "cell_type": "code",
      "source": [
        "naive_q_learning(LineWorld)"
      ],
      "metadata": {
        "colab": {
          "base_uri": "https://localhost:8080/"
        },
        "id": "1OeQK_nF3I_l",
        "outputId": "e4aa4392-7fba-440e-aa3d-df820d1c9898"
      },
      "execution_count": null,
      "outputs": [
        {
          "output_type": "stream",
          "name": "stderr",
          "text": [
            "100%|██████████| 100000/100000 [00:04<00:00, 21190.79it/s]\n"
          ]
        },
        {
          "output_type": "execute_result",
          "data": {
            "text/plain": [
              "({2: 1, 3: 1, 1: 1},\n",
              " {2: {0: 0.9970029989999992, 1: 0.9989999999999996},\n",
              "  3: {0: 0.9980009999999991, 1: 0.9999999999999994},\n",
              "  1: {0: -0.9999999999973004, 1: 0.9980009999999991}})"
            ]
          },
          "metadata": {},
          "execution_count": 48
        }
      ]
    },
    {
      "cell_type": "code",
      "source": [],
      "metadata": {
        "id": "7rM5i-SUdRoq"
      },
      "execution_count": null,
      "outputs": []
    }
  ]
}