{
 "nbformat": 4,
 "nbformat_minor": 0,
 "metadata": {
  "colab": {
   "provenance": []
  },
  "kernelspec": {
   "name": "python3",
   "language": "python",
   "display_name": "Python 3 (ipykernel)"
  },
  "language_info": {
   "name": "python"
  }
 },
 "cells": [
  {
   "cell_type": "code",
   "execution_count": 67,
   "outputs": [],
   "source": [
    "import numpy as np"
   ],
   "metadata": {
    "collapsed": false,
    "ExecuteTime": {
     "end_time": "2024-05-10T11:50:46.843423Z",
     "start_time": "2024-05-10T11:50:46.786220Z"
    }
   }
  },
  {
   "cell_type": "markdown",
   "source": [
    "#Définition d'un line world sous la forme d'un MDP"
   ],
   "metadata": {
    "id": "19mv7NrhVZzx"
   }
  },
  {
   "cell_type": "code",
   "execution_count": 29,
   "metadata": {
    "id": "psNAv57nOCMW",
    "ExecuteTime": {
     "end_time": "2024-05-10T10:01:21.613724Z",
     "start_time": "2024-05-10T10:01:21.590491Z"
    }
   },
   "outputs": [],
   "source": [
    "S = [0, 1, 2 ,3, 4]\n",
    "A = [0, 1] # left right\n",
    "R = [-1, 0, 1]\n",
    "T = [0, 4] # ensemble des états terminaux\n",
    "p = np.zeros((len(S), len(A), len(S), len(R))) # S, A, S_p, R\n",
    "# si t'es à l'état S, que tu fais l'action A, quelle est la proba\n",
    "# de se retrouver à l'état S+1 avec le Reward R"
   ]
  },
  {
   "cell_type": "code",
   "source": [
    "for s in range(len(S)):\n",
    "  for a in range(len(A)):\n",
    "    for s_p in range(len(S)):\n",
    "      for r in range(len(R)):\n",
    "        if s_p == s + 1 and a == 1 and R[r] == 0 and s in [1, 2]:\n",
    "          p[s, a, s_p, r] = 1.0\n",
    "        if s_p == s - 1 and a == 0 and R[r] == 0 and s in [2, 3]:\n",
    "          p[s, a, s_p, r] = 1.0\n",
    "p[3, 1, 4, 2] = 1.0\n",
    "p[1, 0, 0, 0] = 1.0"
   ],
   "metadata": {
    "id": "tGlcGlTA6Tex"
   },
   "execution_count": 17,
   "outputs": []
  },
  {
   "cell_type": "markdown",
   "source": [
    "# Exercice"
   ],
   "metadata": {
    "id": "rnLQGzt4Vzxp"
   }
  },
  {
   "cell_type": "markdown",
   "source": [
    "Implémentez une fonction prenant en paramètre une policy (un tableau numpy)\n",
    "et renvoyant la value de cette policy (un tableau numpy) pour chaque état du line world"
   ],
   "metadata": {
    "id": "s43r9pUuWPtv"
   }
  },
  {
   "cell_type": "code",
   "source": [
    "def policy_evaluation(policy : np.ndarray, V: np.ndarray = None) -> np.ndarray:\n",
    "  theta = 0.00001\n",
    "  V = np.random.random(len(S))\n",
    "  for s in T:\n",
    "    V[s] = 0.0\n",
    "  gamma = 0.999\n",
    "  while True:\n",
    "    delta = 0\n",
    "    for s in range(len(S)):\n",
    "      v = V[s]\n",
    "      total = 0\n",
    "      for a in range(len(A)):\n",
    "        pi_s_a = policy[s, a]\n",
    "        for s_p in range(len(S)):\n",
    "          for r in range(len(R)):\n",
    "            total += pi_s_a * p[s, a, s_p, r] * (R[r] + gamma * V[s_p])\n",
    "      V[s] = total\n",
    "      delta = np.maximum(delta, np.abs(v - V[s]))\n",
    "    if delta < theta:\n",
    "      return V"
   ],
   "metadata": {
    "id": "_96znS5JWF9H"
   },
   "execution_count": 4,
   "outputs": []
  },
  {
   "cell_type": "markdown",
   "source": [
    "Définissez une policy jouant tout le temps à droite.\n",
    "Affichez la value de cette policy obtenue grâce à l'algorithme policy evaluation"
   ],
   "metadata": {
    "id": "29NHJWr3WTnW"
   }
  },
  {
   "cell_type": "code",
   "source": [
    "pi_right = np.array([[0.0, 1.0] for _ in range(len(S))])\n",
    "print(policy_evaluation(pi_right))"
   ],
   "metadata": {
    "id": "xB8Gd0vPWiue",
    "colab": {
     "base_uri": "https://localhost:8080/"
    },
    "outputId": "72ead850-6226-494a-816b-ed0ff637e9f2"
   },
   "execution_count": 5,
   "outputs": [
    {
     "name": "stdout",
     "output_type": "stream",
     "text": [
      "[0.       0.998001 0.999    1.       0.      ]\n"
     ]
    }
   ]
  },
  {
   "cell_type": "markdown",
   "source": [
    "Définissez une policy jouant tout le temps à gauche. Affichez la value de cette policy obtenue grâce à l'algorithme policy evaluation"
   ],
   "metadata": {
    "id": "imIKxQ_fW1wC"
   }
  },
  {
   "cell_type": "code",
   "source": [
    "pi_left = np.array([[1.0, 0.0] for _ in range(len(S))])\n",
    "print(policy_evaluation(pi_left))"
   ],
   "metadata": {
    "id": "q-_ZCGmRW31Q",
    "colab": {
     "base_uri": "https://localhost:8080/"
    },
    "outputId": "eddb5fdf-2017-4855-e711-d3071d1034dc"
   },
   "execution_count": 6,
   "outputs": [
    {
     "name": "stdout",
     "output_type": "stream",
     "text": [
      "[ 0.       -1.       -0.999    -0.998001  0.      ]\n"
     ]
    }
   ]
  },
  {
   "cell_type": "markdown",
   "source": [
    "Définissez une policy uniformément aléatoire (50% de chance d'aller à gauche et 50% de chances d'aller à droite). Affichez la value de cette policy obtenue grâce à l'algorithme policy evaluation"
   ],
   "metadata": {
    "id": "N_8nQtoBXJai"
   }
  },
  {
   "cell_type": "code",
   "source": [
    "pi_random = np.array([[0.5, 0.5] for _ in range(len(S))])\n",
    "print(policy_evaluation(pi_random))"
   ],
   "metadata": {
    "id": "eUYtT2hYW_Fe",
    "colab": {
     "base_uri": "https://localhost:8080/"
    },
    "outputId": "55d1ad5b-ecff-478f-f031-4f4e78760b77"
   },
   "execution_count": 7,
   "outputs": [
    {
     "name": "stdout",
     "output_type": "stream",
     "text": [
      "[ 0.00000000e+00 -4.99994087e-01  5.90749822e-06  5.00002951e-01\n",
      "  0.00000000e+00]\n"
     ]
    }
   ]
  },
  {
   "cell_type": "markdown",
   "source": [
    "Définissez une policy uniformément aléatoire (15% de chance d'aller à gauche et 85% de chances d'aller à droite). Affichez la value de cette policy obtenue grâce à l'algorithme policy evaluation"
   ],
   "metadata": {
    "id": "XQpwh-x_XXGN"
   }
  },
  {
   "cell_type": "code",
   "source": [
    "pi_weird_random = np.array([[0.15, 0.85] for _ in range(len(S))])\n",
    "print(policy_evaluation(pi_weird_random))"
   ],
   "metadata": {
    "id": "h-HkR7HCXc2b",
    "colab": {
     "base_uri": "https://localhost:8080/"
    },
    "outputId": "dc51aa3e-5959-4b6d-9773-c9cac2875ef4"
   },
   "execution_count": 8,
   "outputs": [
    {
     "name": "stdout",
     "output_type": "stream",
     "text": [
      "[0.         0.64651346 0.93801509 0.99056156 0.        ]\n"
     ]
    }
   ]
  },
  {
   "cell_type": "code",
   "source": [
    "def naive_ineficient_policy_iteration():\n",
    "  theta = 0.000001\n",
    "  gamma = 0.999\n",
    "\n",
    "  V = np.random.random(len(S))\n",
    "  for s in T:\n",
    "    V[s] = 0.0\n",
    "\n",
    "  Pi = np.random.choice(A, len(S))\n",
    "\n",
    "  while True:\n",
    "    # Policy Evaluation\n",
    "    while True:\n",
    "      delta = 0.0\n",
    "\n",
    "      for s in S:\n",
    "        v = V[s]\n",
    "\n",
    "        total = 0.0\n",
    "        for s_p in S:\n",
    "          for r_index in range(len(R)):\n",
    "            total += p[s, Pi[s], s_p, r_index] * (R[r_index] + gamma * V[s_p])\n",
    "\n",
    "        V[s] = total\n",
    "\n",
    "        delta = max(delta, abs(v - V[s]))\n",
    "\n",
    "      if delta < theta:\n",
    "        break\n",
    "\n",
    "    # Policy Improvement\n",
    "    policy_stable = True\n",
    "\n",
    "    for s in S:\n",
    "      old_action = Pi[s]\n",
    "\n",
    "      best_a = None\n",
    "      best_action_score = -9999999\n",
    "\n",
    "      for a in A:\n",
    "        total = 0.0\n",
    "        for s_p in S:\n",
    "          for r_index in range(len(R)):\n",
    "            total += p[s, a, s_p, r_index] * (R[r_index] + gamma * V[s_p])\n",
    "\n",
    "        if best_a is None or total >= best_action_score:\n",
    "          best_a = a\n",
    "          best_action_score = total\n",
    "\n",
    "      Pi[s] = best_a\n",
    "      if Pi[s] != old_action:\n",
    "        policy_stable = False\n",
    "\n",
    "    if policy_stable:\n",
    "      return Pi"
   ],
   "metadata": {
    "id": "nqSUVgCIis1z"
   },
   "execution_count": 9,
   "outputs": []
  },
  {
   "cell_type": "code",
   "source": [
    "naive_ineficient_policy_iteration()"
   ],
   "metadata": {
    "colab": {
     "base_uri": "https://localhost:8080/"
    },
    "id": "pVMOCNl0j3Q-",
    "outputId": "ec4b0b57-c253-40a5-d823-0663e0efbf6c"
   },
   "execution_count": 10,
   "outputs": [
    {
     "data": {
      "text/plain": "array([1, 1, 1, 1, 1])"
     },
     "execution_count": 10,
     "metadata": {},
     "output_type": "execute_result"
    }
   ]
  },
  {
   "cell_type": "markdown",
   "source": [
    "# Définissez une variante d'un GRID WORLD sous la forme d'un MDP et évaluez différentes stratégies sur cette environnement.\n",
    "\n",
    "Le grid world est une grille de 5x5 cases (5 lignes de 5 colonnes) sur laquelle l'agent peut évoluer, il commence généralement sur la première ligne, première colonne. L'agent possède 4 actions possibles (gauche, droite, haut, bas). Si jamais l'agent atteint la dernière case de la première ligne => état terminal avec reward de -3. Si jamais l'agent atteint la dernière case de la dernière ligne => état terminal avec reward de 1. Si l'agent essaye de se déplacer en dehors des bords de la grille => état terminal avec score de -1."
   ],
   "metadata": {
    "id": "EZshaI9mXiaF"
   }
  },
  {
   "cell_type": "code",
   "source": [
    "#S = [[0, 1, 2, 3, 4, 5, 6], \n",
    "#     [0, 1, 2, 3, 4, 5, 6],\n",
    "#     [0, 1, 2, 3, 4, 5, 6],\n",
    "#     [0, 1, 2, 3, 4, 5, 6],\n",
    "#     [0, 1, 2, 3, 4, 5, 6],\n",
    "#     [0, 1, 2, 3, 4, 5, 6]] # premiere ligne et derniere lignes outside of game, col 0 et col 6 outside of game\n",
    "\n",
    "#S = [ 0,  1,  2,  3,  4,  5,  6, \n",
    "#      7,  8,  9, 10, 11, 12, 13,\n",
    "#     14, 15, 16, 17, 18, 19, 20,\n",
    "#     21, 22, 23, 24, 25, 26, 27,\n",
    "#     28, 29, 30, 31, 32, 33, 34,\n",
    "#     35, 36, 37, 38, 39, 40, 41]\n",
    "\n",
    "import numpy as np\n",
    "\n",
    "S = [(i, j) for i in range(6) for j in range(7)]\n",
    "A = [0, 1, 2, 3] # left right up down\n",
    "R = [-3, -1, 0, 1] \n",
    "T = [(1,5), (4,5), (0,0), (0,1), (0,2), (0,3), (0,4), (0,5), (0,6), (5,0), (5,1), (5,2), (5,3), (5,4), (5,5), (5,6), (1,0), (2,0), (3,0), (4,0), (1,6), (2,6), (3,6), (4,6)]\n",
    "\n",
    "p = np.zeros((6, 7, 4, 6, 7, 4)) # S, A, S_p, R"
   ],
   "metadata": {
    "id": "l_eC0-d9Xh7Z",
    "ExecuteTime": {
     "end_time": "2024-05-10T12:09:47.530184Z",
     "start_time": "2024-05-10T12:09:47.318355Z"
    }
   },
   "execution_count": 3,
   "outputs": []
  },
  {
   "cell_type": "code",
   "execution_count": 4,
   "outputs": [],
   "source": [
    "for s_line in range(6):\n",
    "  for s_column in range(7):\n",
    "    for a in range(len(A)):\n",
    "      for s_p_line in range(6):\n",
    "        for s_p_column in range(7):\n",
    "          for r in range(len(R)):\n",
    "            # si on est sur la ligne 1 (pas 0) et qu'on monte \n",
    "            if s_line == 1 and 5 > s_column > 0 and a == 2 and s_p_line == s_line - 1 and s_p_column == s_column and R[r] == -1 :\n",
    "              p[s_line][s_column][a][s_p_line][s_p_column][r] = 1.0\n",
    "            # si on est sur la colonne 1 (pas 0) et qu'on va à gauche\n",
    "            if 0 < s_line < 5 and s_column == 1 and a == 0 and s_p_line == s_line and s_p_column == 0 and R[r] == -1 :\n",
    "              p[s_line][s_column][a][s_p_line][s_p_column][r] = 1.0\n",
    "            # si on est sur la colonne 5 et qu'on va à droite\n",
    "            if 0 < s_line < 5 and s_column == 5 and a == 1 and s_p_line == s_line and s_p_column == 6 and R[r] == -1 :\n",
    "              p[s_line][s_column][a][s_p_line][s_p_column][r] = 1.0\n",
    "            # si on est sur la derniere ligne et qu'on descend\n",
    "            if s_line == 4 and 0 < s_column < 5 and a == 3 and s_p_line == 5 and s_p_column == s_column and R[r] == -1 :\n",
    "              p[s_line][s_column][a][s_p_line][s_p_column][r] = 1.0                   \n",
    "                \n",
    "            # si on est sur la ligne 1 (pas 0) et qu'on va à droite \n",
    "            if s_line == 1 and 4 > s_column > 0 and a == 1 and s_p_line == s_line and s_p_column == s_column + 1 and R[r] == 0 :\n",
    "              p[s_line][s_column][a][s_p_line][s_p_column][r] = 1.0\n",
    "            # si on est sur la ligne 1 (pas 0) et qu'on va à gauche \n",
    "            if s_line == 1 and 5 > s_column > 1 and a == 0 and s_p_line == s_line and s_p_column == s_column - 1 and R[r] == 0 :\n",
    "              p[s_line][s_column][a][s_p_line][s_p_column][r] = 1.0  \n",
    "            # si on est sur la ligne 1 (pas 0) et qu'on descend \n",
    "            if s_line == 1 and 5 > s_column > 0 and a == 3 and s_p_line == s_line + 1 and s_p_column == s_column and R[r] == 0 :\n",
    "              p[s_line][s_column][a][s_p_line][s_p_column][r] = 1.0  \n",
    "\n",
    "            # si on est sur la ligne 2 et qu'on va à droite \n",
    "            if s_line == 2 and 5 > s_column > 0 and a == 1 and s_p_line == s_line and s_p_column == s_column + 1 and R[r] == 0 :\n",
    "              p[s_line][s_column][a][s_p_line][s_p_column][r] = 1.0\n",
    "            # si on est sur la ligne 2 et qu'on va à gauche \n",
    "            if s_line == 2 and 6 > s_column > 2 and a == 0 and s_p_line == s_line and s_p_column == s_column - 1 and R[r] == 0 :\n",
    "              p[s_line][s_column][a][s_p_line][s_p_column][r] = 1.0  \n",
    "            # si on est sur la ligne 2 et qu'on descend \n",
    "            if s_line == 2 and 6 > s_column > 0 and a == 3 and s_p_line == s_line + 1 and s_p_column == s_column and R[r] == 0 :\n",
    "              p[s_line][s_column][a][s_p_line][s_p_column][r] = 1.0 \n",
    "            # si on est sur la ligne 2 et qu'on monte \n",
    "            if s_line == 2 and 5 > s_column > 0 and a == 2 and s_p_line == s_line - 1 and s_p_column == s_column and R[r] == 0 :\n",
    "              p[s_line][s_column][a][s_p_line][s_p_column][r] = 1.0 \n",
    "              \n",
    "            # si on est sur la ligne 3 et qu'on va à droite \n",
    "            if s_line == 3 and 5 > s_column > 0 and a == 1 and s_p_line == s_line and s_p_column == s_column + 1 and R[r] == 0 :\n",
    "              p[s_line][s_column][a][s_p_line][s_p_column][r] = 1.0\n",
    "            # si on est sur la ligne 3 et qu'on va à gauche \n",
    "            if s_line == 3 and 6 > s_column > 2 and a == 0 and s_p_line == s_line and s_p_column == s_column - 1 and R[r] == 0 :\n",
    "              p[s_line][s_column][a][s_p_line][s_p_column][r] = 1.0  \n",
    "            # si on est sur la ligne 3 et qu'on descend \n",
    "            if s_line == 3 and 5 > s_column > 0 and a == 3 and s_p_line == s_line + 1 and s_p_column == s_column and R[r] == 0 :\n",
    "              p[s_line][s_column][a][s_p_line][s_p_column][r] = 1.0\n",
    "            # si on est sur la ligne 3 et qu'on monte \n",
    "            if s_line == 3 and 6 > s_column > 0 and a == 2 and s_p_line == s_line - 1 and s_p_column == s_column and R[r] == 0 :\n",
    "              p[s_line][s_column][a][s_p_line][s_p_column][r] = 1.0               \n",
    "          \n",
    "            # si on est sur la ligne 4 et qu'on va à droite \n",
    "            if s_line == 4 and 4 > s_column > 0 and a == 1 and s_p_line == s_line and s_p_column == s_column + 1 and R[r] == 0 :\n",
    "              p[s_line][s_column][a][s_p_line][s_p_column][r] = 1.0\n",
    "            # si on est sur la ligne 4 et qu'on va à gauche \n",
    "            if s_line == 4 and 5 > s_column > 2 and a == 0 and s_p_line == s_line and s_p_column == s_column - 1 and R[r] == 0 :\n",
    "              p[s_line][s_column][a][s_p_line][s_p_column][r] = 1.0  \n",
    "            # si on est sur la ligne 4 et qu'on monte \n",
    "            if s_line == 3 and 5 > s_column > 0 and a == 2 and s_p_line == s_line - 1 and s_p_column == s_column and R[r] == 0 :\n",
    "              p[s_line][s_column][a][s_p_line][s_p_column][r] = 1.0 \n",
    "              \n",
    "# cas avec reward spéciaux\n",
    "p[1][4][1][1][5][0] = 1.0\n",
    "p[2][5][2][1][5][0] = 1.0\n",
    "\n",
    "p[3][5][3][4][5][3] = 1.0\n",
    "p[4][4][1][4][5][3] = 1.0\n",
    "            "
   ],
   "metadata": {
    "collapsed": false,
    "ExecuteTime": {
     "end_time": "2024-05-10T12:09:48.470611Z",
     "start_time": "2024-05-10T12:09:48.457503Z"
    }
   }
  },
  {
   "cell_type": "code",
   "execution_count": 80,
   "outputs": [
    {
     "name": "stdout",
     "output_type": "stream",
     "text": [
      "p[1][1][0][1][0][1] = 1.0\n",
      "p[1][1][1][1][2][2] = 1.0\n",
      "p[1][1][2][0][1][1] = 1.0\n",
      "p[1][1][3][2][1][2] = 1.0\n",
      "p[1][2][0][1][1][2] = 1.0\n",
      "p[1][2][1][1][3][2] = 1.0\n",
      "p[1][2][2][0][2][1] = 1.0\n",
      "p[1][2][3][2][2][2] = 1.0\n",
      "p[1][3][0][1][2][2] = 1.0\n",
      "p[1][3][1][1][4][2] = 1.0\n",
      "p[1][3][2][0][3][1] = 1.0\n",
      "p[1][3][3][2][3][2] = 1.0\n",
      "p[1][4][0][1][3][2] = 1.0\n",
      "p[1][4][1][1][5][0] = 1.0\n",
      "p[1][4][2][0][4][1] = 1.0\n",
      "p[1][4][3][2][4][2] = 1.0\n",
      "p[1][5][1][1][6][1] = 1.0\n",
      "p[2][1][0][2][0][1] = 1.0\n",
      "p[2][1][1][2][2][2] = 1.0\n",
      "p[2][1][2][1][1][2] = 1.0\n",
      "p[2][1][3][3][1][2] = 1.0\n",
      "p[2][2][1][2][3][2] = 1.0\n",
      "p[2][2][2][1][2][2] = 1.0\n",
      "p[2][2][3][3][2][2] = 1.0\n",
      "p[2][3][0][2][2][2] = 1.0\n",
      "p[2][3][1][2][4][2] = 1.0\n",
      "p[2][3][2][1][3][2] = 1.0\n",
      "p[2][3][3][3][3][2] = 1.0\n",
      "p[2][4][0][2][3][2] = 1.0\n",
      "p[2][4][1][2][5][2] = 1.0\n",
      "p[2][4][2][1][4][2] = 1.0\n",
      "p[2][4][3][3][4][2] = 1.0\n",
      "p[2][5][0][2][4][2] = 1.0\n",
      "p[2][5][1][2][6][1] = 1.0\n",
      "p[2][5][2][1][5][0] = 1.0\n",
      "p[2][5][3][3][5][2] = 1.0\n",
      "p[3][1][0][3][0][1] = 1.0\n",
      "p[3][1][1][3][2][2] = 1.0\n",
      "p[3][1][2][2][1][2] = 1.0\n",
      "p[3][1][3][4][1][2] = 1.0\n",
      "p[3][2][1][3][3][2] = 1.0\n",
      "p[3][2][2][2][2][2] = 1.0\n",
      "p[3][2][3][4][2][2] = 1.0\n",
      "p[3][3][0][3][2][2] = 1.0\n",
      "p[3][3][1][3][4][2] = 1.0\n",
      "p[3][3][2][2][3][2] = 1.0\n",
      "p[3][3][3][4][3][2] = 1.0\n",
      "p[3][4][0][3][3][2] = 1.0\n",
      "p[3][4][1][3][5][2] = 1.0\n",
      "p[3][4][2][2][4][2] = 1.0\n",
      "p[3][4][3][4][4][2] = 1.0\n",
      "p[3][5][0][3][4][2] = 1.0\n",
      "p[3][5][1][3][6][1] = 1.0\n",
      "p[3][5][2][2][5][2] = 1.0\n",
      "p[3][5][3][4][5][3] = 1.0\n",
      "p[4][1][0][4][0][1] = 1.0\n",
      "p[4][1][1][4][2][2] = 1.0\n",
      "p[4][1][3][5][1][1] = 1.0\n",
      "p[4][2][1][4][3][2] = 1.0\n",
      "p[4][2][3][5][2][1] = 1.0\n",
      "p[4][3][0][4][2][2] = 1.0\n",
      "p[4][3][1][4][4][2] = 1.0\n",
      "p[4][3][3][5][3][1] = 1.0\n",
      "p[4][4][0][4][3][2] = 1.0\n",
      "p[4][4][1][4][5][3] = 1.0\n",
      "p[4][4][3][5][4][1] = 1.0\n",
      "p[4][5][1][4][6][1] = 1.0\n"
     ]
    }
   ],
   "source": [
    "# affichage de p pour comprendre avec quoi on travaille\n",
    "for s_line in range(6):\n",
    "  for s_column in range(7):\n",
    "    for a in range(len(A)):\n",
    "      for s_p_line in range(6):\n",
    "        for s_p_column in range(7):\n",
    "          for r in range(len(R)):\n",
    "            if p[s_line][s_column][a][s_p_line][s_p_column][r] == 1:\n",
    "              print(\"p[{}][{}][{}][{}][{}][{}] = {}\".format(s_line, s_column, a, s_p_line, s_p_column, r, p[s_line][s_column][a][s_p_line][s_p_column][r]))"
   ],
   "metadata": {
    "collapsed": false,
    "ExecuteTime": {
     "end_time": "2024-05-10T12:03:13.399099Z",
     "start_time": "2024-05-10T12:03:13.274464Z"
    }
   }
  },
  {
   "cell_type": "markdown",
   "source": [
    "# Proposez plusieurs stratégies et évaluez les à l'aide de policy évaluation."
   ],
   "metadata": {
    "id": "YdZTA1y6YwkJ"
   }
  },
  {
   "cell_type": "code",
   "source": [
    "#TODO"
   ],
   "metadata": {
    "id": "Ve8dvoONYuq5"
   },
   "execution_count": null,
   "outputs": []
  },
  {
   "cell_type": "markdown",
   "source": [
    "# Bonus : Implémentez policy itération et value itération (dans les slides que nous n'avons pas encore vu) et obtenez à l'aide de ces derniers pi* pour le Line World et le Grid World"
   ],
   "metadata": {
    "id": "ex0zmlgSY4UR"
   }
  },
  {
   "cell_type": "code",
   "source": [
    "#TODO"
   ],
   "metadata": {
    "id": "J-vUDJ_0ZJaO"
   },
   "execution_count": null,
   "outputs": []
  },
  {
   "cell_type": "markdown",
   "source": [
    "# Naive Policy iteration implementation in order to find a Pi*"
   ],
   "metadata": {
    "id": "E3fcwX9miANL"
   }
  },
  {
   "cell_type": "code",
   "source": [
    "def naive_policy_iteration():\n",
    "  theta = 0.00001\n",
    "  gamma = 0.999\n",
    "\n",
    "  V = np.random.random(len(S))\n",
    "  for s in T:\n",
    "    V[s] = 0.0\n",
    "  Pi = np.random.choice(A, len(S), True)\n",
    "\n",
    "  while True:\n",
    "    # Policy evaluation\n",
    "    while True:\n",
    "      delta = 0\n",
    "      for s in range(len(S)):\n",
    "        v = V[s]\n",
    "        total = 0\n",
    "        for s_p in range(len(S)):\n",
    "          for r in range(len(R)):\n",
    "            total += p[s, Pi[s], s_p, r] * (R[r] + 0.999 * V[s_p])\n",
    "        V[s] = total\n",
    "        delta = np.maximum(delta, np.abs(v - V[s]))\n",
    "      if delta < theta:\n",
    "        break\n",
    "\n",
    "    # Policy improvement\n",
    "    policy_stable = True\n",
    "\n",
    "    for s in S:\n",
    "      if s in T:\n",
    "        continue\n",
    "\n",
    "      old_action = Pi[s]\n",
    "\n",
    "      # Compute Arg Max a\n",
    "      argmax_a = None\n",
    "      max_a = -999999999\n",
    "\n",
    "      for a in A:\n",
    "        total = 0.0\n",
    "\n",
    "        for s_p in S:\n",
    "          for r_index in range(len(R)):\n",
    "            total += p[s, a, s_p, r_index] * (R[r_index] + gamma * V[s_p])\n",
    "\n",
    "        if argmax_a is None or total >= max_a:\n",
    "          argmax_a = a\n",
    "          max_a = total\n",
    "\n",
    "      Pi[s] = argmax_a\n",
    "\n",
    "      if old_action != Pi[s]:\n",
    "        policy_stable = False\n",
    "\n",
    "\n",
    "    if policy_stable:\n",
    "      break\n",
    "\n",
    "  return Pi\n"
   ],
   "metadata": {
    "id": "sluiZiiziKRk",
    "ExecuteTime": {
     "end_time": "2024-05-10T12:45:01.566067Z",
     "start_time": "2024-05-10T12:45:01.492639Z"
    }
   },
   "execution_count": 24,
   "outputs": []
  },
  {
   "cell_type": "code",
   "source": [
    "tab = naive_policy_iteration()"
   ],
   "metadata": {
    "colab": {
     "base_uri": "https://localhost:8080/"
    },
    "id": "mfiEE-u0jpql",
    "outputId": "806e8de8-49b6-4007-d7af-637fbd359214",
    "ExecuteTime": {
     "end_time": "2024-05-10T12:48:04.635660Z",
     "start_time": "2024-05-10T12:47:47.809609Z"
    }
   },
   "execution_count": 26,
   "outputs": []
  },
  {
   "cell_type": "markdown",
   "source": [
    "# Grid World avec vecteurs au lieu de matrices"
   ],
   "metadata": {
    "collapsed": false
   }
  },
  {
   "cell_type": "code",
   "execution_count": 1,
   "outputs": [],
   "source": [
    "#S = [ 0,  1,  2,  3,  4,  5,  6,   LIGNE 1\n",
    "#      7,  8,  9, 10, 11, 12, 13,   LIGNE 2\n",
    "#     14, 15, 16, 17, 18, 19, 20,   LIGNE 3\n",
    "#     21, 22, 23, 24, 25, 26, 27,   LIGNE 4\n",
    "#     28, 29, 30, 31, 32, 33, 34,   LIGNE 5\n",
    "#     35, 36, 37, 38, 39, 40, 41,   LIGNE 6\n",
    "#     42, 43, 44, 45, 46, 47, 48]   LIGNE 7     A = [0, 1, 2, 3] # left right up down\n",
    "\n",
    "import numpy as np\n",
    "\n",
    "S = [i for i in range(49)]\n",
    "A = [0, 1, 2, 3] # left right up down\n",
    "R = [-3, -1, 0, 1] \n",
    "T = [0, 1, 2, 3, 4, 5, 6, 7, 12, 13, 14, 20, 21, 27, 28, 34, 35, 40, 41, 42, 43, 44, 45, 46, 47, 48]\n",
    "\n",
    "p = np.zeros((len(S), len(A), len(S), len(R))) # S, A, S_p, R"
   ],
   "metadata": {
    "collapsed": false,
    "ExecuteTime": {
     "end_time": "2024-05-10T13:50:08.824008Z",
     "start_time": "2024-05-10T13:50:08.160597Z"
    }
   }
  },
  {
   "cell_type": "code",
   "execution_count": 5,
   "outputs": [],
   "source": [
    "for s in range(len(S)):\n",
    "  for a in range(len(A)):\n",
    "    for s_p in range(len(S)):\n",
    "      for r in range(len(R)):\n",
    "      \n",
    "\n",
    "        # actions terminales :\n",
    "        # si on monte depuis la premiere ligne :\n",
    "        if 7 < s < 12 and a == 2 and s_p == s - 7 and R[r] == -1 :\n",
    "          p[s, a, s_p, r] = 1.0\n",
    "        # si on descend depuis la derniere ligne :\n",
    "        if 35 < s < 40 and a == 3 and s_p == s + 7 and R[r] == -1 :\n",
    "          p[s, a, s_p, r] = 1.0\n",
    "        # si on va à gauche depuis la première colonne :\n",
    "        if s % 7 == 1 and 7 < s < 37 and a == 0 and s_p == s - 1 and R[r] == -1 :\n",
    "          p[s, a, s_p, r] = 1.0\n",
    "        # si on va à droite depuis la dernière colonne :\n",
    "        if s % 7 == 5 and 7 < s < 37 and a == 1 and s_p == s + 1 and R[r] == -1 :\n",
    "          p[s, a, s_p, r] = 1.0\n",
    "            \n",
    "        # actions banales :    \n",
    "        # si on est sur la premiere ligne:\n",
    "        # si on descend\n",
    "        if 7 < s < 12 and a == 3 and s_p == s + 7 and R[r] == 0 :\n",
    "          p[s, a, s_p, r] = 1.0\n",
    "        # si on va à gauche\n",
    "        if 8 < s < 12 and a == 0 and s_p == s - 1 and R[r] == 0 :\n",
    "          p[s, a, s_p, r] = 1.0\n",
    "        # si on va à droite\n",
    "        if 7 < s < 11 and a == 1 and s_p == s + 1 and R[r] == 0 :\n",
    "          p[s, a, s_p, r] = 1.0\n",
    "\n",
    "\n",
    "        # si on est sur la deuxième ligne:\n",
    "        # si on monte\n",
    "        if 14 < s < 19 and a == 2 and s_p == s - 7 and R[r] == 0 :\n",
    "          p[s, a, s_p, r] = 1.0\n",
    "        # si on descend\n",
    "        if 14 < s < 20 and a == 3 and s_p == s + 7 and R[r] == 0 :\n",
    "          p[s, a, s_p, r] = 1.0\n",
    "        # si on va à droite\n",
    "        if 14 < s < 19 and a == 1 and s_p == s + 1 and R[r] == 0 :\n",
    "          p[s, a, s_p, r] = 1.0\n",
    "        # si on va à gauche\n",
    "        if 15 < s < 20 and a == 0 and s_p == s - 1 and R[r] == 0 :\n",
    "          p[s, a, s_p, r] = 1.0\n",
    "\n",
    "#S = [ 0,  1,  2,  3,  4,  5,  6,   LIGNE 0\n",
    "#      7,  8,  9, 10, 11, 12, 13,   LIGNE 1\n",
    "#     14, 15, 16, 17, 18, 19, 20,   LIGNE 2\n",
    "#     21, 22, 23, 24, 25, 26, 27,   LIGNE 3\n",
    "#     28, 29, 30, 31, 32, 33, 34,   LIGNE 4\n",
    "#     35, 36, 37, 38, 39, 40, 41,   LIGNE 5\n",
    "#     42, 43, 44, 45, 46, 47, 48]   LIGNE 6     A = [0, 1, 2, 3] # left right up down        \n",
    "        \n",
    "        # si on est sur la troisième ligne:\n",
    "        # si on monte\n",
    "        if 21 < s < 27 and a == 2 and s_p == s - 7 and R[r] == 0 :\n",
    "          p[s, a, s_p, r] = 1.0\n",
    "        # si on descend\n",
    "        if 21 < s < 27 and a == 3 and s_p == s + 7 and R[r] == 0 :\n",
    "          p[s, a, s_p, r] = 1.0\n",
    "        # si on va à gauche\n",
    "        if 22 < s < 27 and a == 0 and s_p == s - 1 and R[r] == 0 :\n",
    "          p[s, a, s_p, r] = 1.0\n",
    "        # si on va à droite\n",
    "        if 21 < s < 26 and a == 1 and s_p == s + 1 and R[r] == 0 :\n",
    "          p[s, a, s_p, r] = 1.0\n",
    "          \n",
    "        \n",
    "        # si on est sur la quatrième ligne:\n",
    "        # si on monte\n",
    "        if 28 < s < 34 and a == 2 and s_p == s - 7 and R[r] == 0 :\n",
    "          p[s, a, s_p, r] = 1.0\n",
    "        # si on descend\n",
    "        if 28 < s < 33 and a == 3 and s_p == s + 7 and R[r] == 0 :\n",
    "          p[s, a, s_p, r] = 1.0 \n",
    "        # si on va à gauche\n",
    "        if 29 < s < 34 and a == 0 and s_p == s - 1 and R[r] == 0 :\n",
    "          p[s, a, s_p, r] = 1.0 \n",
    "        # si on va à droite\n",
    "        if 28 < s < 33 and a == 1 and s_p == s + 1 and R[r] == 0 :\n",
    "          p[s, a, s_p, r] = 1.0\n",
    "          \n",
    "        \n",
    "        # si on est sur la dernière ligne\n",
    "        # si on monte\n",
    "        if 35 < s < 40 and a == 2 and s_p == s - 7 and R[r] == 0 :\n",
    "          p[s, a, s_p, r] = 1.0\n",
    "        # si on va à gauche\n",
    "        if 36 < s < 40 and a == 0 and s_p == s - 1 and R[r] == 0 :\n",
    "          p[s, a, s_p, r] = 1.0\n",
    "        # si on va à droite\n",
    "        if 35 < s < 39 and a == 0 and s_p == s - 1 and R[r] == 0 :\n",
    "          p[s, a, s_p, r] = 1.0\n",
    "          \n",
    "\n",
    "# coup spéciaux : \n",
    "\n",
    "p[11][1][12][0] = 1.0\n",
    "p[19][2][12][0] = 1.0\n",
    "p[39][1][40][3] = 1.0\n",
    "p[33][3][40][3] = 1.0"
   ],
   "metadata": {
    "collapsed": false,
    "ExecuteTime": {
     "end_time": "2024-05-10T13:51:32.958228Z",
     "start_time": "2024-05-10T13:51:32.072917Z"
    }
   }
  },
  {
   "cell_type": "code",
   "execution_count": 3,
   "outputs": [],
   "source": [
    "def naive_policy_iteration():\n",
    "  theta = 0.00001\n",
    "  gamma = 0.999\n",
    "\n",
    "  V = np.random.random(len(S))\n",
    "  for s in T:\n",
    "    V[s] = 0.0\n",
    "  Pi = np.random.choice(A, len(S), True)\n",
    "\n",
    "  while True:\n",
    "    # Policy evaluation\n",
    "    while True:\n",
    "      delta = 0\n",
    "      for s in range(len(S)):\n",
    "        v = V[s]\n",
    "        total = 0\n",
    "        for s_p in range(len(S)):\n",
    "          for r in range(len(R)):\n",
    "            total += p[s, Pi[s], s_p, r] * (R[r] + 0.999 * V[s_p])\n",
    "        V[s] = total\n",
    "        delta = np.maximum(delta, np.abs(v - V[s]))\n",
    "      if delta < theta:\n",
    "        break\n",
    "\n",
    "    # Policy improvement\n",
    "    policy_stable = True\n",
    "\n",
    "    for s in S:\n",
    "      if s in T:\n",
    "        continue\n",
    "\n",
    "      old_action = Pi[s]\n",
    "\n",
    "      # Compute Arg Max a\n",
    "      argmax_a = None\n",
    "      max_a = -999999999\n",
    "\n",
    "      for a in A:\n",
    "        total = 0.0\n",
    "\n",
    "        for s_p in S:\n",
    "          for r_index in range(len(R)):\n",
    "            total += p[s, a, s_p, r_index] * (R[r_index] + gamma * V[s_p])\n",
    "\n",
    "        if argmax_a is None or total >= max_a:\n",
    "          argmax_a = a\n",
    "          max_a = total\n",
    "\n",
    "      Pi[s] = argmax_a\n",
    "\n",
    "      if old_action != Pi[s]:\n",
    "        policy_stable = False\n",
    "\n",
    "\n",
    "    if policy_stable:\n",
    "      break\n",
    "\n",
    "  return Pi"
   ],
   "metadata": {
    "collapsed": false,
    "ExecuteTime": {
     "end_time": "2024-05-10T13:50:15.649678Z",
     "start_time": "2024-05-10T13:50:15.410489Z"
    }
   }
  },
  {
   "cell_type": "code",
   "execution_count": 6,
   "outputs": [],
   "source": [
    "tab = naive_policy_iteration()"
   ],
   "metadata": {
    "collapsed": false,
    "ExecuteTime": {
     "end_time": "2024-05-10T13:52:00.756105Z",
     "start_time": "2024-05-10T13:51:39.780277Z"
    }
   }
  },
  {
   "cell_type": "code",
   "execution_count": 7,
   "outputs": [
    {
     "name": "stdout",
     "output_type": "stream",
     "text": [
      "[[3 3 3 0 1 3 1]\n",
      " [3 3 3 3 3 2 2]\n",
      " [1 3 3 3 3 3 1]\n",
      " [0 3 3 3 3 3 1]\n",
      " [1 1 1 1 3 3 0]\n",
      " [2 2 2 2 1 2 3]\n",
      " [3 1 1 1 2 3 2]]\n"
     ]
    }
   ],
   "source": [
    "print(tab.reshape(7,7))"
   ],
   "metadata": {
    "collapsed": false,
    "ExecuteTime": {
     "end_time": "2024-05-10T13:52:00.763066Z",
     "start_time": "2024-05-10T13:52:00.758260Z"
    }
   }
  },
  {
   "cell_type": "code",
   "execution_count": 8,
   "outputs": [],
   "source": [
    "from colorama import Fore, Style\n",
    "\n",
    "def print_grid_with_color(grid):\n",
    "    for row in grid:\n",
    "        for cell in row:\n",
    "            if cell == 'X':\n",
    "                print(Fore.RED + cell, end=' ')\n",
    "            elif cell == 'I':\n",
    "                print(Fore.MAGENTA + cell, end=' ')\n",
    "            elif cell == 'O':\n",
    "                print(Fore.YELLOW + cell, end=' ')\n",
    "        print(Style.RESET_ALL)  # Réinitialiser la couleur après chaque ligne\n",
    "        \n",
    "# Fonction pour exécuter le jeu\n",
    "def run_game(Pi, start_row, start_col):\n",
    "    # Créez la grille de jeu 6x7 remplie de 0\n",
    "    grid = np.zeros((7, 7), dtype=str)\n",
    "\n",
    "    # Initialisez les bords de la grille avec 'I'\n",
    "    grid[:, 0] = 'I'  # première colonne\n",
    "    grid[:, 6] = 'I'  # dernière colonne\n",
    "    grid[0, :] = 'I'  # première ligne\n",
    "    grid[6, :] = 'I'  # dernière ligne\n",
    "    grid[1:6, 1:6] = 'O' # autres lignes\n",
    "\n",
    "    # Position de départ\n",
    "    current_row, current_col = start_row, start_col\n",
    "\n",
    "    print(\"Position de départ :\\n\")\n",
    "    # Mettez à jour la grille avec le \"X\" de la nouvelle position\n",
    "    grid[current_row, current_col] = 'X'\n",
    "\n",
    "    # Affichez la grille mise à jour\n",
    "    print_grid_with_color(grid)\n",
    "    print('\\n')\n",
    "    print(\"-------------\\n\")\n",
    "\n",
    "    # Exécutez le jeu étape par étape\n",
    "    while True:\n",
    "        # Supprimez le \"X\" du départ s'il existe\n",
    "        grid[current_row, current_col] = 'O'\n",
    "\n",
    "        print(\"Position actuelle : ({}, {})\\n\".format(current_row, current_col))\n",
    "        action = Pi[current_row * 7 + current_col]  # Convertir les coordonnées en indice unique\n",
    "\n",
    "        # Mettez à jour la position en fonction de l'action\n",
    "        if action == 0:  # left\n",
    "            current_col = max(current_col - 1, 1)\n",
    "        elif action == 1:  # right\n",
    "            current_col = min(current_col + 1, 5)\n",
    "        elif action == 2:  # up\n",
    "            current_row = max(current_row - 1, 1)\n",
    "        elif action == 3:  # down\n",
    "            current_row = min(current_row + 1, 4)\n",
    "\n",
    "        # Mettez à jour la grille avec le \"X\" de la nouvelle position\n",
    "        grid[current_row, current_col] = 'X'\n",
    "\n",
    "        # Affichez la grille mise à jour\n",
    "        print_grid_with_color(grid)\n",
    "        print('\\n')\n",
    "        print('-------------------\\n')\n",
    "\n",
    "        # Si la position actuelle est terminale, arrêtez le jeu\n",
    "        if (current_row, current_col) in [(1, 5), (5, 5)]:\n",
    "            print(\"Position terminale atteinte. Le jeu est terminé.\")\n",
    "            break\n"
   ],
   "metadata": {
    "collapsed": false,
    "ExecuteTime": {
     "end_time": "2024-05-10T13:52:06.147687Z",
     "start_time": "2024-05-10T13:52:05.765049Z"
    }
   }
  },
  {
   "cell_type": "code",
   "execution_count": null,
   "outputs": [],
   "source": [
    "run_game(tab, 1, 1)"
   ],
   "metadata": {
    "collapsed": false
   }
  },
  {
   "cell_type": "code",
   "execution_count": null,
   "outputs": [],
   "source": [],
   "metadata": {
    "collapsed": false
   }
  }
 ]
}
