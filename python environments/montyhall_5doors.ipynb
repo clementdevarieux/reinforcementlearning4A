{
 "cells": [
  {
   "cell_type": "code",
   "execution_count": 2,
   "metadata": {
    "collapsed": true
   },
   "outputs": [],
   "source": [
    "import numpy as np"
   ]
  },
  {
   "cell_type": "code",
   "execution_count": 3,
   "outputs": [],
   "source": [
    "S = [0, 1, 2, 3, 4, 5, 6, 7, 8, 9, 10, 11, 12, 13] # 0:pas de choix / 1:porte A / 2:B / 3:C / 4:D / 5:E\n",
    "# on va éliminer 3 portes puis choix final\n",
    "# 6 / 7 reste / change ( il reste 4 portes )\n",
    "# 8 / 9 reste / change ( il reste 3 portes )\n",
    "# 10 / 11 reste / change (il reste 2 portes )\n",
    "# situation finale\n",
    "# 12 / 13 reste / change\n",
    "A = [0, 1, 2, 3, 4] # porte A / B / C / on reste / on change\n",
    "R = [0, 1]\n",
    "T = [12, 13]\n",
    "p = np.zeros((len(S), len(A), len(S), len(R))) # S, A, S_p, R"
   ],
   "metadata": {
    "collapsed": false
   }
  },
  {
   "cell_type": "code",
   "execution_count": 8,
   "outputs": [],
   "source": [
    "# état initiaux\n",
    "p[0][0][1][0] = 1.0\n",
    "p[0][1][2][0] = 1.0\n",
    "p[0][2][3][0] = 1.0\n",
    "p[0][3][4][0] = 1.0\n",
    "p[0][4][5][0] = 1.0\n",
    "\n",
    "# premier choix\n",
    "# on reste\n",
    "p[1][3][6][0] = 1.0\n",
    "p[2][3][6][0] = 1.0\n",
    "p[3][3][6][0] = 1.0\n",
    "p[4][3][6][0] = 1.0\n",
    "p[5][3][6][0] = 1.0\n",
    "\n",
    "# on change\n",
    "p[1][4][7][0] = 1.0\n",
    "p[2][4][7][0] = 1.0\n",
    "p[3][4][7][0] = 1.0\n",
    "p[4][4][7][0] = 1.0\n",
    "p[5][4][7][0] = 1.0\n",
    "\n",
    "# deuxieme choix\n",
    "# on est resté\n",
    "# on reste\n",
    "p[6][3][8][0] = 1.0\n",
    "# on change\n",
    "p[6][4][9][0] = 1.0\n",
    "# on est pas resté\n",
    "# on reste\n",
    "p[7][3][8][0] = 1.0\n",
    "# on change\n",
    "p[7][4][9][0] = 1.0\n",
    "\n",
    "# troisième choix\n",
    "# on est resté\n",
    "# on reste\n",
    "p[8][3][10][0] = 1.0\n",
    "# on change\n",
    "p[8][4][11][0] = 1.0\n",
    "# on est pas resté\n",
    "# on reste\n",
    "p[9][3][10][0] = 1.0\n",
    "# on change\n",
    "p[9][4][11][0] = 1.0\n",
    "\n",
    "# dernier choix\n",
    "# on est resté\n",
    "# on reste\n",
    "p[10][3][12][0] = 2/3\n",
    "p[10][3][12][1] = 1/3\n",
    "# on change\n",
    "p[10][4][13][1] = 2/3\n",
    "p[10][4][13][0] = 1/3\n",
    "# on est pas resté\n",
    "# on reste\n",
    "p[11][3][12][0] = 2/3\n",
    "p[11][3][12][1] = 1/3\n",
    "# on change\n",
    "p[11][4][13][1] = 2/3\n",
    "p[11][4][13][0] = 1/3\n"
   ],
   "metadata": {
    "collapsed": false
   }
  },
  {
   "cell_type": "code",
   "execution_count": 9,
   "outputs": [],
   "source": [
    "def naive_policy_iteration():\n",
    "  theta = 0.00001\n",
    "  gamma = 0.999\n",
    "\n",
    "  V = np.random.random(len(S))\n",
    "  for s in T:\n",
    "    V[s] = 0.0\n",
    "  Pi = np.random.choice(A, len(S), True)\n",
    "\n",
    "  while True:\n",
    "    # Policy evaluation\n",
    "    while True:\n",
    "      delta = 0\n",
    "      for s in range(len(S)):\n",
    "        v = V[s]\n",
    "        total = 0\n",
    "        for s_p in range(len(S)):\n",
    "          for r in range(len(R)):\n",
    "            total += p[s, Pi[s], s_p, r] * (R[r] + 0.999 * V[s_p])\n",
    "        V[s] = total\n",
    "        delta = np.maximum(delta, np.abs(v - V[s]))\n",
    "      if delta < theta:\n",
    "        break\n",
    "\n",
    "    # Policy improvement\n",
    "    policy_stable = True\n",
    "\n",
    "    for s in S:\n",
    "      if s in T:\n",
    "        continue\n",
    "\n",
    "      old_action = Pi[s]\n",
    "\n",
    "      # Compute Arg Max a\n",
    "      argmax_a = None\n",
    "      max_a = -999999999\n",
    "\n",
    "      for a in A:\n",
    "        total = 0.0\n",
    "\n",
    "        for s_p in S:\n",
    "          for r_index in range(len(R)):\n",
    "            total += p[s, a, s_p, r_index] * (R[r_index] + gamma * V[s_p])\n",
    "\n",
    "        if argmax_a is None or total >= max_a:\n",
    "          argmax_a = a\n",
    "          max_a = total\n",
    "\n",
    "      Pi[s] = argmax_a\n",
    "\n",
    "      if old_action != Pi[s]:\n",
    "        policy_stable = False\n",
    "\n",
    "\n",
    "    if policy_stable:\n",
    "      break\n",
    "\n",
    "  return Pi"
   ],
   "metadata": {
    "collapsed": false
   }
  },
  {
   "cell_type": "code",
   "execution_count": 10,
   "outputs": [
    {
     "data": {
      "text/plain": "array([4, 4, 4, 4, 4, 4, 4, 4, 4, 4, 4, 4, 1, 3])"
     },
     "execution_count": 10,
     "metadata": {},
     "output_type": "execute_result"
    }
   ],
   "source": [
    "naive_policy_iteration()"
   ],
   "metadata": {
    "collapsed": false
   }
  },
  {
   "cell_type": "code",
   "execution_count": null,
   "outputs": [],
   "source": [],
   "metadata": {
    "collapsed": false
   }
  }
 ],
 "metadata": {
  "kernelspec": {
   "display_name": "Python 3",
   "language": "python",
   "name": "python3"
  },
  "language_info": {
   "codemirror_mode": {
    "name": "ipython",
    "version": 2
   },
   "file_extension": ".py",
   "mimetype": "text/x-python",
   "name": "python",
   "nbconvert_exporter": "python",
   "pygments_lexer": "ipython2",
   "version": "2.7.6"
  }
 },
 "nbformat": 4,
 "nbformat_minor": 0
}
